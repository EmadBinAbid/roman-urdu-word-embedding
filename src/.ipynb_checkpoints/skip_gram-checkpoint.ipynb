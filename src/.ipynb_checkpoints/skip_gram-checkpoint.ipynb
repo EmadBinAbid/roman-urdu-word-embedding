{
 "cells": [
  {
   "cell_type": "markdown",
   "metadata": {
    "colab_type": "text",
    "id": "ZElRH0EIT2dT"
   },
   "source": [
    "# Dependencies"
   ]
  },
  {
   "cell_type": "code",
   "execution_count": 0,
   "metadata": {
    "colab": {},
    "colab_type": "code",
    "collapsed": true,
    "id": "JGMV24NiT2dV"
   },
   "outputs": [],
   "source": [
    "!pip install progressbar2\n",
    "!pip install torch==0.4.0\n",
    "!pip install torchvision\n",
    "!pip install scikit-learn"
   ]
  },
  {
   "cell_type": "code",
   "execution_count": 1,
   "metadata": {
    "colab": {},
    "colab_type": "code",
    "collapsed": false,
    "id": "6gQPIw7zUZOA"
   },
   "outputs": [
    {
     "name": "stdout",
     "output_type": "stream",
     "text": [
      "[nltk_data] Downloading package punkt to\n",
      "[nltk_data]     C:\\Users\\HP\\AppData\\Roaming\\nltk_data...\n",
      "[nltk_data]   Package punkt is already up-to-date!\n"
     ]
    }
   ],
   "source": [
    "# General\n",
    "import numpy as np\n",
    "import progressbar\n",
    "import matplotlib.pyplot as plt\n",
    "from IPython.display import Image\n",
    "\n",
    "# Data preprocessing\n",
    "from nltk.tokenize import word_tokenize\n",
    "import nltk\n",
    "nltk.download('punkt')\n",
    "\n",
    "# Model\n",
    "import torch\n",
    "import torch.autograd as autograd\n",
    "import torch.nn as nn\n",
    "import torch.nn.functional as F\n",
    "import torch.optim as optim\n",
    "\n",
    "# Visualisation\n",
    "from sklearn.manifold import TSNE"
   ]
  },
  {
   "cell_type": "markdown",
   "metadata": {
    "colab_type": "text",
    "id": "-O9aEMGKT2dc"
   },
   "source": [
    "# Global Variables"
   ]
  },
  {
   "cell_type": "code",
   "execution_count": 0,
   "metadata": {
    "colab": {},
    "colab_type": "code",
    "collapsed": true,
    "id": "rTmHYfSGT2dd"
   },
   "outputs": [],
   "source": [
    "CONTEXT_SIZES = [5, 10, 15, 20]\n",
    "EMBEDDING_DIMENSIONS = [100, 200, 300]\n",
    "\n",
    "CONTEXT_SIZE = CONTEXT_SIZES[3]\n",
    "EMBEDDING_DIMENSION = EMBEDDING_DIMENSIONS[2]\n",
    "LR = 0.001\n",
    "EPOCHS = 2"
   ]
  },
  {
   "cell_type": "markdown",
   "metadata": {
    "colab_type": "text",
    "id": "MKwNOa_XT2dh"
   },
   "source": [
    "# Reading File & Importing Data"
   ]
  },
  {
   "cell_type": "code",
   "execution_count": 0,
   "metadata": {
    "colab": {},
    "colab_type": "code",
    "collapsed": true,
    "id": "VMjuCGU-T2dk"
   },
   "outputs": [],
   "source": [
    "# from google.colab import drive\n",
    "# drive.mount('/content/drive')\n",
    "\n",
    "file = open(\"/content/drive/My Drive/Machine Learning/Skipgram Model/data/corpus-1-reduced.txt\", \"r\")\n",
    "corpus = file.readlines()\n",
    "file.close()"
   ]
  },
  {
   "cell_type": "markdown",
   "metadata": {
    "colab_type": "text",
    "id": "Qglwb6JDT2dp"
   },
   "source": [
    "# Preprocessing Corpus for Tokenization\n",
    "Converts the list of sentences into a single string."
   ]
  },
  {
   "cell_type": "code",
   "execution_count": 4,
   "metadata": {
    "colab": {
     "base_uri": "https://localhost:8080/",
     "height": 34
    },
    "colab_type": "code",
    "collapsed": false,
    "id": "wsp0bAMAT2dr",
    "outputId": "9af5075f-768b-4ccd-ba6c-94c5af8e3a59"
   },
   "outputs": [
    {
     "name": "stdout",
     "output_type": "stream",
     "text": [
      "Corpus size: 69471\n"
     ]
    }
   ],
   "source": [
    "corpus = \"\".join(corpus)\n",
    "print(\"Corpus size:\", len(corpus))"
   ]
  },
  {
   "cell_type": "markdown",
   "metadata": {
    "colab_type": "text",
    "id": "Cx9lXwJsT2dy"
   },
   "source": [
    "# Tokenization\n",
    "Splits the corpus into word tokens."
   ]
  },
  {
   "cell_type": "code",
   "execution_count": 5,
   "metadata": {
    "colab": {
     "base_uri": "https://localhost:8080/",
     "height": 51
    },
    "colab_type": "code",
    "collapsed": false,
    "id": "Gg5bcvYVT2d0",
    "outputId": "d4c9cde1-29ef-4750-d3cb-5062daf8a52d"
   },
   "outputs": [
    {
     "name": "stdout",
     "output_type": "stream",
     "text": [
      "Total tokens: 12324\n",
      "Unique tokens: 3001\n"
     ]
    }
   ],
   "source": [
    "word_tokens = word_tokenize(corpus)\n",
    "print(\"Total tokens:\", len(word_tokens))\n",
    "print(\"Unique tokens:\", len(set(word_tokens)))"
   ]
  },
  {
   "cell_type": "markdown",
   "metadata": {
    "colab_type": "text",
    "id": "ruh-BFWWT2d-"
   },
   "source": [
    "# Preprocessing Word Tokens for Skipgram\n",
    "Converts the list of word tokens into a vocabulary, word_to_ix and ix_to_word."
   ]
  },
  {
   "cell_type": "code",
   "execution_count": 0,
   "metadata": {
    "colab": {},
    "colab_type": "code",
    "collapsed": true,
    "id": "65X2ZfUNT2d_"
   },
   "outputs": [],
   "source": [
    "def make_vocabulary(word_tokens):\n",
    "    vocabulary = dict()\n",
    "    ix_to_word = dict()\n",
    "    word_to_ix = dict()\n",
    "    \n",
    "    for word in word_tokens:\n",
    "        if word not in vocabulary:\n",
    "            vocabulary[word] = 0\n",
    "            ix_to_word[len(word_to_ix)] = word\n",
    "            word_to_ix[word] = len(word_to_ix)\n",
    "        vocabulary[word] += 1\n",
    "    return vocabulary, ix_to_word, word_to_ix\n",
    "\n",
    "vocabulary, ix_to_word, word_to_ix = make_vocabulary(word_tokens)"
   ]
  },
  {
   "cell_type": "markdown",
   "metadata": {
    "colab_type": "text",
    "id": "g1SpnbhJT2eG"
   },
   "source": [
    "# Generating Training Data\n",
    "Generates the training data using word_tokens and CONTEXT_SIZE. In other words, converting the problem into supervised learning problem."
   ]
  },
  {
   "cell_type": "code",
   "execution_count": 0,
   "metadata": {
    "colab": {},
    "colab_type": "code",
    "collapsed": true,
    "id": "CCV6dnkqT2eH"
   },
   "outputs": [],
   "source": [
    "def generate_train_set(word_tokens, word_to_ix, context_size):\n",
    "    train_set = list()\n",
    "    \n",
    "    for i, word in enumerate(word_tokens):\n",
    "        back_counter = i-1\n",
    "        back_context_size = 0\n",
    "        forward_counter = i+1\n",
    "        forward_context_size = 0\n",
    "        \n",
    "        while (back_counter >= 0 and back_context_size < context_size):\n",
    "            train_set.append(([word_to_ix[word]], word_to_ix[word_tokens[back_counter]]))\n",
    "            back_counter -= 1\n",
    "            back_context_size += 1\n",
    "        while (forward_counter < len(word_tokens) and forward_context_size < context_size):\n",
    "            train_set.append(([word_to_ix[word]], word_to_ix[word_tokens[forward_counter]]))\n",
    "            forward_counter += 1\n",
    "            forward_context_size += 1\n",
    "    return train_set\n",
    "\n",
    "train_set = generate_train_set(word_tokens, word_to_ix, CONTEXT_SIZE)"
   ]
  },
  {
   "cell_type": "code",
   "execution_count": 8,
   "metadata": {
    "colab": {
     "base_uri": "https://localhost:8080/",
     "height": 34
    },
    "colab_type": "code",
    "collapsed": false,
    "id": "QQEjSM5UT2eL",
    "outputId": "e434ca12-2dfa-4459-8887-9bbca4570a73"
   },
   "outputs": [
    {
     "data": {
      "text/plain": [
       "492540"
      ]
     },
     "execution_count": 8,
     "metadata": {
      "tags": []
     },
     "output_type": "execute_result"
    }
   ],
   "source": [
    "len(train_set)"
   ]
  },
  {
   "cell_type": "markdown",
   "metadata": {
    "colab_type": "text",
    "id": "0M3SLrxjT2eR"
   },
   "source": [
    "# Skipgram Model"
   ]
  },
  {
   "cell_type": "code",
   "execution_count": 0,
   "metadata": {
    "colab": {},
    "colab_type": "code",
    "collapsed": true,
    "id": "MYJv8I9xT2eT"
   },
   "outputs": [],
   "source": [
    "class Skipgram(nn.Module):\n",
    "    def __init__(self, vocabulary_size, embedding_dimension):\n",
    "        super(Skipgram, self).__init__()\n",
    "        self.embeddings = nn.Embedding(vocabulary_size, embedding_dimension)\n",
    "        self.linear = nn.Linear(embedding_dimension, vocabulary_size)\n",
    "    \n",
    "    def forward(self, inputs):\n",
    "        embeds = self.embeddings(inputs).view((1, -1))\n",
    "        out = self.linear(embeds)\n",
    "        log_probabilities = F.log_softmax(out)\n",
    "        return log_probabilities\n",
    "\n",
    "model = Skipgram(len(vocabulary), EMBEDDING_DIMENSION).cuda()\n",
    "model"
   ]
  },
  {
   "cell_type": "markdown",
   "metadata": {
    "colab_type": "text",
    "id": "K5TNFjrmT2ea"
   },
   "source": [
    "# Loss & Optimization"
   ]
  },
  {
   "cell_type": "code",
   "execution_count": 0,
   "metadata": {
    "colab": {},
    "colab_type": "code",
    "collapsed": true,
    "id": "MN-0rrrnT2ee"
   },
   "outputs": [],
   "source": [
    "class NEGLoss(nn.Module):\n",
    "    def __init__(self, ix_to_word, word_frequencies, num_negative_samples=5):\n",
    "        super(NEGLoss, self).__init__()\n",
    "        self.num_negative_samples = num_negative_samples\n",
    "        self.vocabulary_size = len(ix_to_word)\n",
    "        self.distribution = F.normalize(torch.Tensor(\n",
    "        [word_frequencies[ix_to_word[i]] for i in range(len(word_frequencies))]).pow(0.75), dim=0)\n",
    "    \n",
    "    def sample(self, num_samples, positives=[]):\n",
    "        weights = torch.zeros((self.vocabulary_size, 1))\n",
    "        \n",
    "        for w in positives:\n",
    "            weights[w] += 1.0\n",
    "        \n",
    "        for _ in range(num_samples):\n",
    "            w = torch.multinomial(self.distribution, 1)[0]\n",
    "            while w in positives:\n",
    "                w = torch.multinomial(self.distribution, 1)[0]\n",
    "            weights[w] += 1.0\n",
    "        return weights\n",
    "\n",
    "    def forward(self, inputs, target):\n",
    "        return F.nll_loss(inputs, target, self.sample(self.num_negative_samples, positives=target.data.numpy()))"
   ]
  },
  {
   "cell_type": "code",
   "execution_count": 0,
   "metadata": {
    "colab": {},
    "colab_type": "code",
    "collapsed": true,
    "id": "v8o9c6H2T2ei"
   },
   "outputs": [],
   "source": [
    "loss_function = NEGLoss(ix_to_word, vocabulary)\n",
    "optimizer = optim.SGD(model.parameters(), lr=LR)"
   ]
  },
  {
   "cell_type": "markdown",
   "metadata": {
    "colab_type": "text",
    "id": "dYQ0wHRMT2en"
   },
   "source": [
    "# Model Training"
   ]
  },
  {
   "cell_type": "code",
   "execution_count": 0,
   "metadata": {
    "colab": {},
    "colab_type": "code",
    "collapsed": true,
    "id": "4zAX6NQET2eo"
   },
   "outputs": [],
   "source": [
    "losses = list()\n",
    "\n",
    "for epoch in range(EPOCHS):\n",
    "    print(\"Epoch #\", epoch)\n",
    "    total_loss = torch.Tensor([0])\n",
    "    progress_bar = progressbar.ProgressBar()\n",
    "    \n",
    "    for context, target in progress_bar(train_set):\n",
    "        context_var = autograd.Variable(torch.LongTensor(context)).cuda()\n",
    "        model.zero_grad()\n",
    "        log_probs = model(context_var)\n",
    "        loss = loss_function(log_probs.cpu(), autograd.Variable(\n",
    "            torch.LongTensor([target])))\n",
    "        loss.backward()\n",
    "        optimizer.step()\n",
    "        total_loss += loss.data\n",
    "    print(\"Epoch # %d Loss: %.5f\" % (epoch, total_loss[0]))\n",
    "    losses.append(total_loss)"
   ]
  },
  {
   "cell_type": "markdown",
   "metadata": {
    "colab_type": "text",
    "id": "jTHVONGjSpQR"
   },
   "source": [
    "# t-SNE Visualization"
   ]
  },
  {
   "cell_type": "code",
   "execution_count": 15,
   "metadata": {
    "colab": {
     "base_uri": "https://localhost:8080/",
     "height": 347
    },
    "colab_type": "code",
    "collapsed": false,
    "id": "J35MvlXJSzrX",
    "outputId": "6e156562-3ee0-480a-fdad-d03df5729339"
   },
   "outputs": [
    {
     "data": {
      "image/png": "[encoded data removed]",
      "text/plain": [
       "<matplotlib.figure.Figure at 0x7f3ff2272198>"
      ]
     },
     "metadata": {
      "tags": []
     },
     "output_type": "display_data"
    }
   ],
   "source": [
    "# indices = np.random.choice(np.arange(len(vocabulary)), size=100, replace=True)\n",
    "# indices = [i for i in vocabulary]\n",
    "\n",
    "indices = [\"mauqa\", \"mawaqay\", \"gayi\", \"gaya\", \"gaye\", \"ilzaam\", \"ilzamaat\", \"ilaaj\", \"hospital\", \"khitaab\", \"conference\", \"riyasat\", \"hukoomat\", \n",
    "           \"tafteesh\", \"police\", \"shareef\", \"Sharif\", \"karen\", \"keren\", \"unhein\", \"unhen\", \"rozgari\", \"rozgaar\", \"ne\", \"nay\", \"ny\", \"naay\", \"par\", \"per\", \n",
    "           \"girftar\", \"giraftari\", \"se\", \"say\", \"bhi\", \"bi\", \"kiya\", \"kya\", \"tak\", \"taq\", \"unho\", \"unhon\", \"ke\", \"kay\", \"inho\", \"inhon\"]\n",
    "\n",
    "indices_dict = dict()\n",
    "for i in range(len(indices)):\n",
    "  indices_dict[indices[i]] = i\n",
    "\n",
    "matrix_embedded = list()\n",
    "\n",
    "for ind in range(len(indices)):\n",
    "  #word = list(vocabulary.keys())[ind]\n",
    "  word = indices[ind]\n",
    "  inputs = autograd.Variable(torch.LongTensor([word_to_ix[word]]))\n",
    "  vec = model.embeddings(inputs.cuda()).data[0]\n",
    "  vec = vec.cpu().numpy()\n",
    "  matrix_embedded.append(vec)\n",
    "  \n",
    "vec_embedded = TSNE(n_components=2).fit_transform(matrix_embedded)\n",
    "\n",
    "for emb in range(len(vec_embedded)):\n",
    "  # For correct word display on the graph\n",
    "  ind = indices[emb]\n",
    "  #word = list(vocabulary.keys())[ind]\n",
    "  word = indices[emb]\n",
    "  x, y = vec_embedded[emb][0], vec_embedded[emb][1]\n",
    "  #print(word, x, y)\n",
    "  plt.scatter(x, y)\n",
    "  plt.annotate(word, xy=(x, y), xytext=(5, 2),textcoords='offset points', ha='right', va='bottom')\n",
    "  plt.savefig(\"graph.png\")\n"
   ]
  },
  {
   "cell_type": "code",
   "execution_count": 16,
   "metadata": {
    "colab": {
     "base_uri": "https://localhost:8080/",
     "height": 612
    },
    "colab_type": "code",
    "collapsed": false,
    "id": "Ar7d_r4S1ckJ",
    "outputId": "dcfa4105-47e8-4a09-b127-ffc89fe1d941"
   },
   "outputs": [
    {
     "name": "stdout",
     "output_type": "stream",
     "text": [
      "Synonyms:\n",
      "[ 98.48787  -54.281155]\n",
      "[67.391495 62.35655 ]\n",
      "[-49.16667 111.76317]\n",
      "[ -1.1245097 117.9099   ]\n",
      "[-49.16667 111.76317]\n",
      "[-82.86818 -80.45088]\n",
      "[ -1.1245097 117.9099   ]\n",
      "[-82.86818 -80.45088]\n",
      "[123.82037  -14.104588]\n",
      "[-9.375072 46.343353]\n",
      "Analogies:\n",
      "[  -0.86358505 -120.63874   ]\n",
      "[ 38.280777 -98.26652 ]\n",
      "[48.66667  -7.755692]\n",
      "[-35.38935  30.37804]\n",
      "[ 72.65573 108.0003 ]\n",
      "[14.115551 38.360466]\n",
      "[ 25.842173 -63.78161 ]\n",
      "[ 24.431042 104.01102 ]\n",
      "Misspellings:\n",
      "[102.56679   43.573265]\n",
      "[25.714264 69.540016]\n",
      "[-93.443985 -31.35119 ]\n",
      "[67.0984   21.011854]\n",
      "[-9.555634 81.860855]\n",
      "[-18.67653  10.61822]\n",
      "[  3.8241947 -42.107246 ]\n",
      "[-40.73494    -2.5979357]\n",
      "[93.82841  14.390238]\n",
      "[ 54.42057  -56.610504]\n",
      "[ 75.49697 -86.37513]\n",
      "[  2.3979635 -92.409454 ]\n",
      "[ 21.623108 -12.251095]\n",
      "[ 8.414068 11.07134 ]\n"
     ]
    }
   ],
   "source": [
    "synonym_list = [\"mauqa\", \"mawaqay\", \"gaya\", \"gayi\", \"gaya\", \"gaye\", \n",
    "                \"gayi\", \"gaye\", \"ilzamaat\", \"ilzaam\"]\n",
    "\n",
    "analogy_list = [\"ilaaj\", \"hospital\", \"khitaab\", \"conference\", \n",
    "                \"riyasat\", \"hukoomat\", \"tafteesh\", \"police\"]\n",
    "\n",
    "misspell_list = [\"shareef\", \"Sharif\", \"karen\", \"keren\", \"unhein\", \"unhen\", \n",
    "                 \"rozgari\", \"rozgaar\", \"ne\", \"nay\", \"par\", \"per\", \n",
    "                 \"tak\", \"taq\"]\n",
    "\n",
    "print(\"Synonyms:\")\n",
    "for i in synonym_list:\n",
    "  print(vec_embedded[indices_dict[i]])\n",
    "\n",
    "print(\"Analogies:\")\n",
    "for i in analogy_list:\n",
    "  print(vec_embedded[indices_dict[i]])\n",
    "\n",
    "print(\"Misspellings:\")\n",
    "for i in misspell_list:\n",
    "  print(vec_embedded[indices_dict[i]])"
   ]
  },
  {
   "cell_type": "markdown",
   "metadata": {
    "colab_type": "text",
    "id": "GcWOYUGtQCF7"
   },
   "source": [
    "# Report:\n",
    "\n",
    "## Scraping: \n",
    "An scraping is a process generally known to extract something of interest from any source or origin. In our case, scraping is described as a process to extract data from any data source. Web, probably, is the largest source of data which currently exists. Hence, web scraping is the process which suits us the most. Web scraping is described as the process of extracting the data from anywhere out of the whole web.\n",
    "\n",
    "## URLs:\n",
    "The URLs used for scraping were the following:\n",
    "https://jang.com.pk/roman/news/1,\n",
    "https://jang.com.pk/roman/news/2, ..., https://jang.com.pk/roman/news/8000.\n",
    "\n",
    "## Corpus:\n",
    "The main corpus consists of 12324 total words. Out of the total number of words, 3001 words are unique. The main corpus can be found inside the data folder as corpus-1-reduced.txt.\n",
    "\n",
    "## Visualizing Embedding using t-SNE:\n",
    "The model was trained using multiple values of context size and embedding dimension. The results of t-SNE were visualized and compared manually with the original corpus after 10 epochs. Some of the results are given below. Some words (out of many) checked for synonyms, analogies and misspellings are given below:\n",
    "\n",
    "\n",
    "*   _Synonyms_: mauqa (mawaqay), gayi (gaya), gaya (gaye), gaye (gayi), ilzamaat (ilzaam), ...\n",
    "*  _Analogies_: ilaaj (hospital), khitaab (conference), riyasat (hukoomat), tafteesh (police), ...\n",
    "* _Misspellings_: shareef (sharif), karen (keren), unhein (unhen), rozgari (rozgaar), ne (nay), par (per), girftar (giraftari), nay (ny), ne (ny), se (say), bhi (bi), kiya (kya), tak (taq), ne (naay), ny (naay), nay (naay), unhon (unho), ke (kay), inho (inhon), ...\n",
    "\n",
    "**(i) context size = 5 and embedding dimension = 100**\n",
    "![title](assets/1.png)\n",
    "\n",
    "**(ii) context size = 10 and embedding dimension = 200**\n",
    "![title](assets/2.png)\n",
    "\n",
    "**(iii) context size = 15 and embedding dimension = 300**\n",
    "![title](assets/3.png)\n",
    "\n",
    "**(iv) context size = 20 and embedding dimension = 300**\n",
    "![title](assets/4.png)"
   ]
  },
  {
   "cell_type": "code",
   "execution_count": null,
   "metadata": {
    "collapsed": true
   },
   "outputs": [],
   "source": []
  }
 ],
 "metadata": {
  "accelerator": "GPU",
  "colab": {
   "collapsed_sections": [],
   "name": "skip_gram.ipynb",
   "provenance": [],
   "version": "0.3.2"
  },
  "kernelspec": {
   "display_name": "Python 3",
   "language": "python",
   "name": "python3"
  },
  "language_info": {
   "codemirror_mode": {
    "name": "ipython",
    "version": 3
   },
   "file_extension": ".py",
   "mimetype": "text/x-python",
   "name": "python",
   "nbconvert_exporter": "python",
   "pygments_lexer": "ipython3",
   "version": "3.6.0"
  }
 },
 "nbformat": 4,
 "nbformat_minor": 0
}
